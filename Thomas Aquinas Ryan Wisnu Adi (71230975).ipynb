{
 "cells": [
  {
   "cell_type": "code",
   "execution_count": null,
   "id": "9041def9",
   "metadata": {},
   "outputs": [],
   "source": [
    "def perkalian(bilangan_a,bilangan_b):\n",
    "    hasil = 0\n",
    "    print(f\"{bilangan_a} x {bilangan_b} = \", end = \"\")\n",
    "    for i in range(bilangan_a):\n",
    "        hasil = bilangan_a * bilangan_b\n",
    "        if i < bilangan_a - 1:\n",
    "            print(bilangan_b, end = \" + \")\n",
    "        else:\n",
    "            print(bilangan_b, end = \" = \")\n",
    "    print(f\"{hasil}.\")"
   ]
  },
  {
   "cell_type": "code",
   "execution_count": null,
   "id": "516d00ea",
   "metadata": {},
   "outputs": [],
   "source": [
    "def ganjil(bawah, atas):\n",
    "    if bawah < atas:\n",
    "        hasil = [str(i) for i in range (bawah, atas + 1) \n",
    "                 if i % 2 != 0]\n",
    "        print(f\"Karena bawah < atas, berarti dari kecil ke besar, maka hasilnya adalah: {', '.join(hasil)}.\")\n",
    "    elif bawah > atas:\n",
    "        hasil = [str(i) for i in range (bawah, atas - 1, -1) \n",
    "                 if i % 2 != 0]\n",
    "        print(f\"Karena bawah > atas, berarti dari besar ke kecil, maka hasilnya adalah: {', '.join(hasil)}.\")\n",
    "    else:\n",
    "        print(\"Operasi Menghitung Salah\")\n",
    "bawah = int(input(\"bawah: \"))\n",
    "atas = int(input(\"atas: \"))\n",
    "ganjil(bawah, atas)"
   ]
  },
  {
   "cell_type": "code",
   "execution_count": null,
   "id": "5c732f3d",
   "metadata": {},
   "outputs": [],
   "source": [
    "jumlah = int(input(\"Berapa jumlah mata kuliah? \"))\n",
    "nomor = 1\n",
    "nilai = 0\n",
    "while nomor <= jumlah:\n",
    "    inputan = input(f\"Nilai MK {nomor} : \")\n",
    "    if inputan == \"A\":\n",
    "        inputan = 4\n",
    "    elif inputan == \"B\":\n",
    "        inputan = 3\n",
    "    elif inputan == \"C\":\n",
    "        inputan = 2\n",
    "    elif inputan == \"D\":\n",
    "        inputan = 1\n",
    "    else:\n",
    "        inputan = 0\n",
    "    nomor += 1\n",
    "    nilai += inputan\n",
    "\n",
    "IPS = ( nilai * 3 ) /( jumlah * 3 )\n",
    "print(f\"Nilai IPS anda semester ini {round(IPS,2)} \")        "
   ]
  }
 ],
 "metadata": {
  "kernelspec": {
   "display_name": "Python 3 (ipykernel)",
   "language": "python",
   "name": "python3"
  },
  "language_info": {
   "codemirror_mode": {
    "name": "ipython",
    "version": 3
   },
   "file_extension": ".py",
   "mimetype": "text/x-python",
   "name": "python",
   "nbconvert_exporter": "python",
   "pygments_lexer": "ipython3",
   "version": "3.11.5"
  }
 },
 "nbformat": 4,
 "nbformat_minor": 5
}
